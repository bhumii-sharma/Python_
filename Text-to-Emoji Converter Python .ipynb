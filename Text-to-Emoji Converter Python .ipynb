{
 "cells": [
  {
   "cell_type": "code",
   "execution_count": 2,
   "id": "8f073b2c",
   "metadata": {},
   "outputs": [
    {
     "name": "stdout",
     "output_type": "stream",
     "text": [
      "Enter a sentence: love\n",
      "❤️ \n"
     ]
    }
   ],
   "source": [
    "emoji_dict = {\n",
    "    \"happy\": \"😊\",\n",
    "    \"sad\": \"😢\",\n",
    "    \"angry\": \"😡\",\n",
    "    \"love\": \"❤️\",\n",
    "    \"laugh\": \"😂\",\n",
    "}\n",
    "\n",
    "text = input(\"Enter a sentence: \").lower()\n",
    "for word in text.split():\n",
    "    print(emoji_dict.get(word, word), end=\" \")\n",
    "print()\n"
   ]
  },
  {
   "cell_type": "code",
   "execution_count": null,
   "id": "dd5ccc7a",
   "metadata": {},
   "outputs": [],
   "source": []
  }
 ],
 "metadata": {
  "kernelspec": {
   "display_name": "Python 3 (ipykernel)",
   "language": "python",
   "name": "python3"
  },
  "language_info": {
   "codemirror_mode": {
    "name": "ipython",
    "version": 3
   },
   "file_extension": ".py",
   "mimetype": "text/x-python",
   "name": "python",
   "nbconvert_exporter": "python",
   "pygments_lexer": "ipython3",
   "version": "3.10.9"
  }
 },
 "nbformat": 4,
 "nbformat_minor": 5
}
