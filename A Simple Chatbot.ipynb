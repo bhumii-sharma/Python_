{
 "cells": [
  {
   "cell_type": "code",
   "execution_count": 1,
   "id": "c71b65e6",
   "metadata": {},
   "outputs": [
    {
     "name": "stdout",
     "output_type": "stream",
     "text": [
      "You: hi\n",
      "I don't understand that.\n",
      "You: hello\n",
      "Hello!\n",
      "You: how are you\n",
      "Ready to assist!\n",
      "You: bye\n",
      "Take care!\n"
     ]
    }
   ],
   "source": [
    "import random\n",
    "\n",
    "responses = {\n",
    "    \"hello\": [\"Hi there!\", \"Hello!\", \"Hey!\"],\n",
    "    \"how are you\": [\"I'm just a program, but I'm doing great!\", \"Feeling code-y!\", \"Ready to assist!\"],\n",
    "    \"bye\": [\"Goodbye!\", \"See you later!\", \"Take care!\"],\n",
    "}\n",
    "\n",
    "while True:\n",
    "    user_input = input(\"You: \").lower()\n",
    "    if user_input == \"bye\":\n",
    "        print(random.choice(responses[\"bye\"]))\n",
    "        break\n",
    "    response = responses.get(user_input, [\"I don't understand that.\"])\n",
    "    print(random.choice(response))\n"
   ]
  },
  {
   "cell_type": "code",
   "execution_count": null,
   "id": "bd99676f",
   "metadata": {},
   "outputs": [],
   "source": []
  }
 ],
 "metadata": {
  "kernelspec": {
   "display_name": "Python 3 (ipykernel)",
   "language": "python",
   "name": "python3"
  },
  "language_info": {
   "codemirror_mode": {
    "name": "ipython",
    "version": 3
   },
   "file_extension": ".py",
   "mimetype": "text/x-python",
   "name": "python",
   "nbconvert_exporter": "python",
   "pygments_lexer": "ipython3",
   "version": "3.10.9"
  }
 },
 "nbformat": 4,
 "nbformat_minor": 5
}
