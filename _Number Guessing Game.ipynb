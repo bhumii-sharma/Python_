{
 "cells": [
  {
   "cell_type": "code",
   "execution_count": null,
   "id": "55661b76",
   "metadata": {},
   "outputs": [
    {
     "name": "stdout",
     "output_type": "stream",
     "text": [
      "Guess a number between 1 and 100.\n",
      "Your guess: 50\n",
      "Too high! Try again.\n",
      "Your guess: 45\n",
      "Too high! Try again.\n",
      "Your guess: 22\n",
      "Too high! Try again.\n",
      "Your guess: 1\n",
      "Too low! Try again.\n",
      "Your guess: 10\n",
      "Too low! Try again.\n",
      "Your guess: 15\n",
      "Too high! Try again.\n",
      "Your guess: 0\n",
      "Too low! Try again.\n",
      "Your guess: 47\n",
      "Too high! Try again.\n",
      "Your guess: 78\n",
      "Too high! Try again.\n",
      "Your guess: 23\n",
      "Too high! Try again.\n"
     ]
    }
   ],
   "source": [
    "import random\n",
    "\n",
    "number = random.randint(1, 100)\n",
    "attempts = 0\n",
    "\n",
    "print(\"Guess a number between 1 and 100.\")\n",
    "\n",
    "while True:\n",
    "    guess = int(input(\"Your guess: \"))\n",
    "    attempts += 1\n",
    "    \n",
    "    if guess < number:\n",
    "        print(\"Too low! Try again.\")\n",
    "    elif guess > number:\n",
    "        print(\"Too high! Try again.\")\n",
    "    else:\n",
    "        print(f\"Congratulations! You guessed it in {attempts} attempts.\")\n",
    "        break\n"
   ]
  },
  {
   "cell_type": "code",
   "execution_count": null,
   "id": "ee317406",
   "metadata": {},
   "outputs": [],
   "source": []
  }
 ],
 "metadata": {
  "kernelspec": {
   "display_name": "Python 3 (ipykernel)",
   "language": "python",
   "name": "python3"
  },
  "language_info": {
   "codemirror_mode": {
    "name": "ipython",
    "version": 3
   },
   "file_extension": ".py",
   "mimetype": "text/x-python",
   "name": "python",
   "nbconvert_exporter": "python",
   "pygments_lexer": "ipython3",
   "version": "3.10.9"
  }
 },
 "nbformat": 4,
 "nbformat_minor": 5
}
