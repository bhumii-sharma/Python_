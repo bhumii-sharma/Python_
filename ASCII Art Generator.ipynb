{
 "cells": [
  {
   "cell_type": "code",
   "execution_count": 1,
   "id": "9813a9ad",
   "metadata": {},
   "outputs": [
    {
     "name": "stdout",
     "output_type": "stream",
     "text": [
      "Collecting pyfiglet\n",
      "  Downloading pyfiglet-1.0.2-py3-none-any.whl (1.1 MB)\n",
      "     ---------------------------------------- 1.1/1.1 MB 4.3 MB/s eta 0:00:00\n",
      "Installing collected packages: pyfiglet\n",
      "Successfully installed pyfiglet-1.0.2\n",
      "Note: you may need to restart the kernel to use updated packages.\n"
     ]
    }
   ],
   "source": [
    "pip install pyfiglet"
   ]
  },
  {
   "cell_type": "code",
   "execution_count": 5,
   "id": "f0d0bd46",
   "metadata": {},
   "outputs": [
    {
     "name": "stdout",
     "output_type": "stream",
     "text": [
      "Enter text for ASCII art: Learn Python From Bhumi\n",
      "    __                             ____        __  __              \n",
      "   / /   ___  ____ __________     / __ \\__  __/ /_/ /_  ____  ____ \n",
      "  / /   / _ \\/ __ `/ ___/ __ \\   / /_/ / / / / __/ __ \\/ __ \\/ __ \\\n",
      " / /___/  __/ /_/ / /  / / / /  / ____/ /_/ / /_/ / / / /_/ / / / /\n",
      "/_____/\\___/\\__,_/_/  /_/ /_/  /_/    \\__, /\\__/_/ /_/\\____/_/ /_/ \n",
      "                                     /____/                        \n",
      "    ______                        ____  __                    _ \n",
      "   / ____/________  ____ ___     / __ )/ /_  __  ______ ___  (_)\n",
      "  / /_  / ___/ __ \\/ __ `__ \\   / __  / __ \\/ / / / __ `__ \\/ / \n",
      " / __/ / /  / /_/ / / / / / /  / /_/ / / / / /_/ / / / / / / /  \n",
      "/_/   /_/   \\____/_/ /_/ /_/  /_____/_/ /_/\\__,_/_/ /_/ /_/_/   \n",
      "                                                                \n",
      "\n"
     ]
    }
   ],
   "source": [
    "from pyfiglet import Figlet\n",
    "\n",
    "text = input(\"Enter text for ASCII art: \")\n",
    "f = Figlet(font='slant')\n",
    "print(f.renderText(text))"
   ]
  },
  {
   "cell_type": "code",
   "execution_count": null,
   "id": "791bd40d",
   "metadata": {},
   "outputs": [],
   "source": []
  }
 ],
 "metadata": {
  "kernelspec": {
   "display_name": "Python 3 (ipykernel)",
   "language": "python",
   "name": "python3"
  },
  "language_info": {
   "codemirror_mode": {
    "name": "ipython",
    "version": 3
   },
   "file_extension": ".py",
   "mimetype": "text/x-python",
   "name": "python",
   "nbconvert_exporter": "python",
   "pygments_lexer": "ipython3",
   "version": "3.10.9"
  }
 },
 "nbformat": 4,
 "nbformat_minor": 5
}
