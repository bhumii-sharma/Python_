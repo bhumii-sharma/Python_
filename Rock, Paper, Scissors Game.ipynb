{
 "cells": [
  {
   "cell_type": "code",
   "execution_count": 1,
   "id": "bb1dc8bc",
   "metadata": {},
   "outputs": [
    {
     "name": "stdout",
     "output_type": "stream",
     "text": [
      "Enter rock, paper, or scissors (or 'quit' to stop): rock\n",
      "Computer chose: paper\n",
      "You lose!\n",
      "Enter rock, paper, or scissors (or 'quit' to stop): paper\n",
      "Computer chose: rock\n",
      "You win!\n",
      "Enter rock, paper, or scissors (or 'quit' to stop): scissors\n",
      "Computer chose: scissors\n",
      "It's a tie!\n",
      "Enter rock, paper, or scissors (or 'quit' to stop): rock\n",
      "Computer chose: scissors\n",
      "You win!\n",
      "Enter rock, paper, or scissors (or 'quit' to stop): rock\n",
      "Computer chose: paper\n",
      "You lose!\n",
      "Enter rock, paper, or scissors (or 'quit' to stop): rock\n",
      "Computer chose: scissors\n",
      "You win!\n",
      "Enter rock, paper, or scissors (or 'quit' to stop): quit\n"
     ]
    }
   ],
   "source": [
    "import random\n",
    "\n",
    "choices = [\"rock\", \"paper\", \"scissors\"]\n",
    "\n",
    "while True:\n",
    "    user_choice = input(\"Enter rock, paper, or scissors (or 'quit' to stop): \").lower()\n",
    "    if user_choice == \"quit\":\n",
    "        break\n",
    "    if user_choice not in choices:\n",
    "        print(\"Invalid choice. Try again.\")\n",
    "        continue\n",
    "    \n",
    "    computer_choice = random.choice(choices)\n",
    "    print(f\"Computer chose: {computer_choice}\")\n",
    "    \n",
    "    if user_choice == computer_choice:\n",
    "        print(\"It's a tie!\")\n",
    "    elif (user_choice == \"rock\" and computer_choice == \"scissors\") or \\\n",
    "         (user_choice == \"paper\" and computer_choice == \"rock\") or \\\n",
    "         (user_choice == \"scissors\" and computer_choice == \"paper\"):\n",
    "        print(\"You win!\")\n",
    "    else:\n",
    "        print(\"You lose!\")\n"
   ]
  },
  {
   "cell_type": "code",
   "execution_count": null,
   "id": "919ef75e",
   "metadata": {},
   "outputs": [],
   "source": []
  }
 ],
 "metadata": {
  "kernelspec": {
   "display_name": "Python 3 (ipykernel)",
   "language": "python",
   "name": "python3"
  },
  "language_info": {
   "codemirror_mode": {
    "name": "ipython",
    "version": 3
   },
   "file_extension": ".py",
   "mimetype": "text/x-python",
   "name": "python",
   "nbconvert_exporter": "python",
   "pygments_lexer": "ipython3",
   "version": "3.10.9"
  }
 },
 "nbformat": 4,
 "nbformat_minor": 5
}
